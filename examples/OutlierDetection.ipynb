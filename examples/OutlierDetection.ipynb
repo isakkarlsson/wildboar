{
 "cells": [
  {
   "cell_type": "code",
   "execution_count": 1,
   "metadata": {
    "collapsed": true
   },
   "outputs": [],
   "source": [
    "import numpy as np\n",
    "import pandas as pd\n",
    "from sklearn.metrics import balanced_accuracy_score\n",
    "from sklearn.model_selection import train_test_split\n",
    "from sklearn.utils import check_random_state\n",
    "\n",
    "from wildboar.ensemble import IsolationShapeletForest\n",
    "\n",
    "def load_data(train_file, test_file):\n",
    "    train = np.loadtxt(train_file, delimiter=\",\")\n",
    "    test = np.loadtxt(test_file, delimiter=\",\")\n",
    "    train = np.vstack([train, test])\n",
    "    y = train[:, 0].astype(np.float64)\n",
    "    y = np.ascontiguousarray(y)\n",
    "    x = np.ascontiguousarray(train[:, 1:].astype(np.float64))\n",
    "    return x, y\n",
    "x, y = load_data(\"data/TwoLeadECG_TRAIN\", \"data/TwoLeadECG_TEST\")"
   ]
  },
  {
   "cell_type": "code",
   "execution_count": 2,
   "outputs": [],
   "source": [
    "def split_train_test(x, y, normal_class, random_state, test_size = 0.2, anomalies_test_size = .95):\n",
    "    normal = y == normal_class\n",
    "    y = y.copy()\n",
    "    y[normal] = 1\n",
    "    y[~normal] = -1\n",
    "\n",
    "    x_normal = x[np.where(y==1)]\n",
    "    x_anomalous = x[np.where(y==-1)]\n",
    "    y_normal = y[np.where(y==1)]\n",
    "    y_anomalous = y[np.where(y==-1)]\n",
    "    x_normal_train, x_normal_test, y_normal_train, y_normal_test = train_test_split(\n",
    "        x_normal, y_normal, test_size=test_size, random_state=random_state\n",
    "    )\n",
    "    x_anomalous_train, x_anomalous_test, y_anomalous_train, y_anomalous_test = train_test_split(\n",
    "        x_anomalous, y_anomalous, test_size=anomalies_test_size, random_state=random_state,\n",
    "    )\n",
    "\n",
    "    x_train = np.vstack([x_normal_train, x_anomalous_train])\n",
    "    y_train = np.hstack([y_normal_train, y_anomalous_train])\n",
    "    x_test = np.vstack([x_normal_test, x_anomalous_test])\n",
    "    y_test = np.hstack([y_normal_test, y_anomalous_test])\n",
    "    return x_train, x_test, y_train, y_test"
   ],
   "metadata": {
    "collapsed": false,
    "pycharm": {
     "name": "#%%\n"
    }
   }
  },
  {
   "cell_type": "code",
   "execution_count": 3,
   "outputs": [],
   "source": [
    "random_state = check_random_state(123)\n",
    "x_train, x_test, y_train, y_test = split_train_test(\n",
    "    x, y, 1, random_state, test_size=0, anomalies_test_size=0.95)"
   ],
   "metadata": {
    "collapsed": false,
    "pycharm": {
     "name": "#%%\n"
    }
   }
  },
  {
   "cell_type": "code",
   "execution_count": 4,
   "outputs": [
    {
     "data": {
      "text/plain": " 1.0    464\n-1.0     29\ndtype: int64"
     },
     "execution_count": 4,
     "metadata": {},
     "output_type": "execute_result"
    }
   ],
   "source": [
    "pd.DataFrame(y_train).value_counts()"
   ],
   "metadata": {
    "collapsed": false,
    "pycharm": {
     "name": "#%%\n"
    }
   }
  },
  {
   "cell_type": "code",
   "execution_count": 5,
   "outputs": [
    {
     "data": {
      "text/plain": "-1.0    552\n 1.0    117\ndtype: int64"
     },
     "execution_count": 5,
     "metadata": {},
     "output_type": "execute_result"
    }
   ],
   "source": [
    "pd.DataFrame(y_test).value_counts()"
   ],
   "metadata": {
    "collapsed": false,
    "pycharm": {
     "name": "#%%\n"
    }
   }
  },
  {
   "cell_type": "code",
   "execution_count": 6,
   "outputs": [],
   "source": [
    "f = IsolationShapeletForest(\n",
    "    random_state=check_random_state(123),\n",
    "    n_estimators=100,\n",
    "    metric=\"euclidean\",\n",
    "    n_jobs=8,\n",
    "    min_shapelet_size=0.2,\n",
    "    max_shapelet_size=0.8)"
   ],
   "metadata": {
    "collapsed": false,
    "pycharm": {
     "name": "#%%\n"
    }
   }
  },
  {
   "cell_type": "code",
   "execution_count": 7,
   "outputs": [
    {
     "data": {
      "text/plain": "IsolationShapeletForest(max_shapelet_size=0.8, metric='scaled_euclidean',\n                        min_shapelet_size=0.2, n_jobs=8,\n                        random_state=RandomState(MT19937) at 0x139A85B40)"
     },
     "execution_count": 7,
     "metadata": {},
     "output_type": "execute_result"
    }
   ],
   "source": [
    "f.fit(x_train)"
   ],
   "metadata": {
    "collapsed": false,
    "pycharm": {
     "name": "#%%\n"
    }
   }
  },
  {
   "cell_type": "code",
   "execution_count": 8,
   "outputs": [],
   "source": [
    "y_hat = f.predict(x_test)"
   ],
   "metadata": {
    "collapsed": false,
    "pycharm": {
     "name": "#%%\n"
    }
   }
  },
  {
   "cell_type": "code",
   "execution_count": 9,
   "outputs": [
    {
     "data": {
      "text/plain": "0.5042735042735043"
     },
     "execution_count": 9,
     "metadata": {},
     "output_type": "execute_result"
    }
   ],
   "source": [
    "balanced_accuracy_score(y_test, y_hat)"
   ],
   "metadata": {
    "collapsed": false,
    "pycharm": {
     "name": "#%%\n"
    }
   }
  },
  {
   "cell_type": "code",
   "execution_count": 40,
   "outputs": [],
   "source": [],
   "metadata": {
    "collapsed": false,
    "pycharm": {
     "name": "#%%\n"
    }
   }
  },
  {
   "cell_type": "code",
   "execution_count": 41,
   "outputs": [
    {
     "data": {
      "text/plain": "[<matplotlib.lines.Line2D at 0x13e01a9d0>]"
     },
     "execution_count": 41,
     "metadata": {},
     "output_type": "execute_result"
    },
    {
     "data": {
      "text/plain": "<Figure size 432x288 with 1 Axes>",
      "image/png": "[encoded data removed]"
     },
     "metadata": {
      "needs_background": "light"
     },
     "output_type": "display_data"
    }
   ],
   "source": [
    "import matplotlib.pylab as plt\n",
    "plt.plot(x[0])"
   ],
   "metadata": {
    "collapsed": false,
    "pycharm": {
     "name": "#%%\n"
    }
   }
  },
  {
   "cell_type": "code",
   "execution_count": 31,
   "outputs": [],
   "source": [],
   "metadata": {
    "collapsed": false,
    "pycharm": {
     "name": "#%%\n"
    }
   }
  },
  {
   "cell_type": "code",
   "execution_count": null,
   "outputs": [],
   "source": [],
   "metadata": {
    "collapsed": false,
    "pycharm": {
     "name": "#%%\n"
    }
   }
  }
 ],
 "metadata": {
  "kernelspec": {
   "display_name": "Python 3",
   "language": "python",
   "name": "python3"
  },
  "language_info": {
   "codemirror_mode": {
    "name": "ipython",
    "version": 2
   },
   "file_extension": ".py",
   "mimetype": "text/x-python",
   "name": "python",
   "nbconvert_exporter": "python",
   "pygments_lexer": "ipython2",
   "version": "2.7.6"
  }
 },
 "nbformat": 4,
 "nbformat_minor": 0
}